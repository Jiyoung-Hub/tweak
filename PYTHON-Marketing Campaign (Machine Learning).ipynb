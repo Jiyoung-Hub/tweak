{
 "cells": [
  {
   "cell_type": "code",
   "execution_count": 2,
   "metadata": {
    "scrolled": true
   },
   "outputs": [
    {
     "data": {
      "text/html": [
       "<div>\n",
       "<style scoped>\n",
       "    .dataframe tbody tr th:only-of-type {\n",
       "        vertical-align: middle;\n",
       "    }\n",
       "\n",
       "    .dataframe tbody tr th {\n",
       "        vertical-align: top;\n",
       "    }\n",
       "\n",
       "    .dataframe thead th {\n",
       "        text-align: right;\n",
       "    }\n",
       "</style>\n",
       "<table border=\"1\" class=\"dataframe\">\n",
       "  <thead>\n",
       "    <tr style=\"text-align: right;\">\n",
       "      <th></th>\n",
       "      <th>Unnamed: 0</th>\n",
       "      <th>age</th>\n",
       "      <th>job</th>\n",
       "      <th>marital</th>\n",
       "      <th>education</th>\n",
       "      <th>default</th>\n",
       "      <th>balance</th>\n",
       "      <th>housing</th>\n",
       "      <th>loan</th>\n",
       "      <th>contact</th>\n",
       "      <th>day</th>\n",
       "      <th>month</th>\n",
       "      <th>campaign</th>\n",
       "      <th>pdays</th>\n",
       "      <th>previous</th>\n",
       "      <th>poutcome</th>\n",
       "      <th>deposit</th>\n",
       "    </tr>\n",
       "  </thead>\n",
       "  <tbody>\n",
       "    <tr>\n",
       "      <th>0</th>\n",
       "      <td>7524</td>\n",
       "      <td>59</td>\n",
       "      <td>technician</td>\n",
       "      <td>married</td>\n",
       "      <td>secondary</td>\n",
       "      <td>no</td>\n",
       "      <td>0</td>\n",
       "      <td>no</td>\n",
       "      <td>no</td>\n",
       "      <td>cellular</td>\n",
       "      <td>29</td>\n",
       "      <td>aug</td>\n",
       "      <td>2</td>\n",
       "      <td>-1</td>\n",
       "      <td>0</td>\n",
       "      <td>unknown</td>\n",
       "      <td>no</td>\n",
       "    </tr>\n",
       "    <tr>\n",
       "      <th>1</th>\n",
       "      <td>4777</td>\n",
       "      <td>31</td>\n",
       "      <td>technician</td>\n",
       "      <td>single</td>\n",
       "      <td>tertiary</td>\n",
       "      <td>no</td>\n",
       "      <td>454</td>\n",
       "      <td>no</td>\n",
       "      <td>no</td>\n",
       "      <td>cellular</td>\n",
       "      <td>30</td>\n",
       "      <td>apr</td>\n",
       "      <td>1</td>\n",
       "      <td>-1</td>\n",
       "      <td>0</td>\n",
       "      <td>unknown</td>\n",
       "      <td>yes</td>\n",
       "    </tr>\n",
       "    <tr>\n",
       "      <th>2</th>\n",
       "      <td>1041</td>\n",
       "      <td>34</td>\n",
       "      <td>admin.</td>\n",
       "      <td>single</td>\n",
       "      <td>tertiary</td>\n",
       "      <td>no</td>\n",
       "      <td>4254</td>\n",
       "      <td>yes</td>\n",
       "      <td>no</td>\n",
       "      <td>cellular</td>\n",
       "      <td>21</td>\n",
       "      <td>nov</td>\n",
       "      <td>1</td>\n",
       "      <td>-1</td>\n",
       "      <td>0</td>\n",
       "      <td>unknown</td>\n",
       "      <td>yes</td>\n",
       "    </tr>\n",
       "    <tr>\n",
       "      <th>3</th>\n",
       "      <td>3137</td>\n",
       "      <td>33</td>\n",
       "      <td>technician</td>\n",
       "      <td>married</td>\n",
       "      <td>secondary</td>\n",
       "      <td>no</td>\n",
       "      <td>303</td>\n",
       "      <td>yes</td>\n",
       "      <td>no</td>\n",
       "      <td>cellular</td>\n",
       "      <td>3</td>\n",
       "      <td>feb</td>\n",
       "      <td>1</td>\n",
       "      <td>301</td>\n",
       "      <td>5</td>\n",
       "      <td>success</td>\n",
       "      <td>yes</td>\n",
       "    </tr>\n",
       "    <tr>\n",
       "      <th>4</th>\n",
       "      <td>2829</td>\n",
       "      <td>38</td>\n",
       "      <td>blue-collar</td>\n",
       "      <td>single</td>\n",
       "      <td>secondary</td>\n",
       "      <td>no</td>\n",
       "      <td>0</td>\n",
       "      <td>no</td>\n",
       "      <td>no</td>\n",
       "      <td>cellular</td>\n",
       "      <td>27</td>\n",
       "      <td>oct</td>\n",
       "      <td>1</td>\n",
       "      <td>75</td>\n",
       "      <td>3</td>\n",
       "      <td>failure</td>\n",
       "      <td>yes</td>\n",
       "    </tr>\n",
       "  </tbody>\n",
       "</table>\n",
       "</div>"
      ],
      "text/plain": [
       "   Unnamed: 0  age          job  marital  education default  balance housing  \\\n",
       "0        7524   59   technician  married  secondary      no        0      no   \n",
       "1        4777   31   technician   single   tertiary      no      454      no   \n",
       "2        1041   34       admin.   single   tertiary      no     4254     yes   \n",
       "3        3137   33   technician  married  secondary      no      303     yes   \n",
       "4        2829   38  blue-collar   single  secondary      no        0      no   \n",
       "\n",
       "  loan   contact  day month  campaign  pdays  previous poutcome deposit  \n",
       "0   no  cellular   29   aug         2     -1         0  unknown      no  \n",
       "1   no  cellular   30   apr         1     -1         0  unknown     yes  \n",
       "2   no  cellular   21   nov         1     -1         0  unknown     yes  \n",
       "3   no  cellular    3   feb         1    301         5  success     yes  \n",
       "4   no  cellular   27   oct         1     75         3  failure     yes  "
      ]
     },
     "execution_count": 2,
     "metadata": {},
     "output_type": "execute_result"
    }
   ],
   "source": [
    "import numpy as np\n",
    "import pandas as pd\n",
    "data = pd.read_csv(\"FinalProjectTrain.csv\")\n",
    "data.describe()\n",
    "data.head()"
   ]
  },
  {
   "cell_type": "code",
   "execution_count": 2,
   "metadata": {},
   "outputs": [
    {
     "data": {
      "text/plain": [
       "no     4111\n",
       "yes    3702\n",
       "Name: deposit, dtype: int64"
      ]
     },
     "execution_count": 2,
     "metadata": {},
     "output_type": "execute_result"
    }
   ],
   "source": [
    "# Check the imbalance\n",
    "data['deposit'].value_counts()"
   ]
  },
  {
   "cell_type": "code",
   "execution_count": 83,
   "metadata": {
    "scrolled": true
   },
   "outputs": [
    {
     "data": {
      "text/html": [
       "<div>\n",
       "<style scoped>\n",
       "    .dataframe tbody tr th:only-of-type {\n",
       "        vertical-align: middle;\n",
       "    }\n",
       "\n",
       "    .dataframe tbody tr th {\n",
       "        vertical-align: top;\n",
       "    }\n",
       "\n",
       "    .dataframe thead th {\n",
       "        text-align: right;\n",
       "    }\n",
       "</style>\n",
       "<table border=\"1\" class=\"dataframe\">\n",
       "  <thead>\n",
       "    <tr style=\"text-align: right;\">\n",
       "      <th></th>\n",
       "      <th>Unnamed: 0</th>\n",
       "      <th>age</th>\n",
       "      <th>balance</th>\n",
       "      <th>day</th>\n",
       "      <th>campaign</th>\n",
       "      <th>pdays</th>\n",
       "      <th>previous</th>\n",
       "    </tr>\n",
       "    <tr>\n",
       "      <th>deposit</th>\n",
       "      <th></th>\n",
       "      <th></th>\n",
       "      <th></th>\n",
       "      <th></th>\n",
       "      <th></th>\n",
       "      <th></th>\n",
       "      <th></th>\n",
       "    </tr>\n",
       "  </thead>\n",
       "  <tbody>\n",
       "    <tr>\n",
       "      <th>no</th>\n",
       "      <td>8222.105814</td>\n",
       "      <td>40.764777</td>\n",
       "      <td>1218.911944</td>\n",
       "      <td>16.143761</td>\n",
       "      <td>2.833617</td>\n",
       "      <td>36.154220</td>\n",
       "      <td>0.545609</td>\n",
       "    </tr>\n",
       "    <tr>\n",
       "      <th>yes</th>\n",
       "      <td>2640.904106</td>\n",
       "      <td>41.478660</td>\n",
       "      <td>1783.750135</td>\n",
       "      <td>15.301729</td>\n",
       "      <td>2.121556</td>\n",
       "      <td>68.013506</td>\n",
       "      <td>1.149649</td>\n",
       "    </tr>\n",
       "  </tbody>\n",
       "</table>\n",
       "</div>"
      ],
      "text/plain": [
       "          Unnamed: 0        age      balance        day  campaign      pdays  \\\n",
       "deposit                                                                        \n",
       "no       8222.105814  40.764777  1218.911944  16.143761  2.833617  36.154220   \n",
       "yes      2640.904106  41.478660  1783.750135  15.301729  2.121556  68.013506   \n",
       "\n",
       "         previous  \n",
       "deposit            \n",
       "no       0.545609  \n",
       "yes      1.149649  "
      ]
     },
     "execution_count": 83,
     "metadata": {},
     "output_type": "execute_result"
    }
   ],
   "source": [
    "data['poutcome'].unique()\n",
    "data.shape\n",
    "data.columns\n",
    "data['deposit'].value_counts()\n",
    "data.groupby('deposit').mean()"
   ]
  },
  {
   "cell_type": "code",
   "execution_count": 84,
   "metadata": {
    "scrolled": true
   },
   "outputs": [
    {
     "data": {
      "text/html": [
       "<div>\n",
       "<style scoped>\n",
       "    .dataframe tbody tr th:only-of-type {\n",
       "        vertical-align: middle;\n",
       "    }\n",
       "\n",
       "    .dataframe tbody tr th {\n",
       "        vertical-align: top;\n",
       "    }\n",
       "\n",
       "    .dataframe thead th {\n",
       "        text-align: right;\n",
       "    }\n",
       "</style>\n",
       "<table border=\"1\" class=\"dataframe\">\n",
       "  <thead>\n",
       "    <tr style=\"text-align: right;\">\n",
       "      <th></th>\n",
       "      <th>Unnamed: 0</th>\n",
       "      <th>age</th>\n",
       "      <th>balance</th>\n",
       "      <th>day</th>\n",
       "      <th>campaign</th>\n",
       "      <th>pdays</th>\n",
       "      <th>previous</th>\n",
       "    </tr>\n",
       "  </thead>\n",
       "  <tbody>\n",
       "    <tr>\n",
       "      <th>Unnamed: 0</th>\n",
       "      <td>1.00</td>\n",
       "      <td>-0.02</td>\n",
       "      <td>-0.06</td>\n",
       "      <td>0.03</td>\n",
       "      <td>0.09</td>\n",
       "      <td>-0.07</td>\n",
       "      <td>-0.06</td>\n",
       "    </tr>\n",
       "    <tr>\n",
       "      <th>age</th>\n",
       "      <td>-0.02</td>\n",
       "      <td>1.00</td>\n",
       "      <td>0.10</td>\n",
       "      <td>-0.01</td>\n",
       "      <td>-0.01</td>\n",
       "      <td>0.00</td>\n",
       "      <td>0.02</td>\n",
       "    </tr>\n",
       "    <tr>\n",
       "      <th>balance</th>\n",
       "      <td>-0.06</td>\n",
       "      <td>0.10</td>\n",
       "      <td>1.00</td>\n",
       "      <td>0.02</td>\n",
       "      <td>-0.03</td>\n",
       "      <td>0.02</td>\n",
       "      <td>0.04</td>\n",
       "    </tr>\n",
       "    <tr>\n",
       "      <th>day</th>\n",
       "      <td>0.03</td>\n",
       "      <td>-0.01</td>\n",
       "      <td>0.02</td>\n",
       "      <td>1.00</td>\n",
       "      <td>0.13</td>\n",
       "      <td>-0.08</td>\n",
       "      <td>-0.07</td>\n",
       "    </tr>\n",
       "    <tr>\n",
       "      <th>campaign</th>\n",
       "      <td>0.09</td>\n",
       "      <td>-0.01</td>\n",
       "      <td>-0.03</td>\n",
       "      <td>0.13</td>\n",
       "      <td>1.00</td>\n",
       "      <td>-0.09</td>\n",
       "      <td>-0.04</td>\n",
       "    </tr>\n",
       "    <tr>\n",
       "      <th>pdays</th>\n",
       "      <td>-0.07</td>\n",
       "      <td>0.00</td>\n",
       "      <td>0.02</td>\n",
       "      <td>-0.08</td>\n",
       "      <td>-0.09</td>\n",
       "      <td>1.00</td>\n",
       "      <td>0.50</td>\n",
       "    </tr>\n",
       "    <tr>\n",
       "      <th>previous</th>\n",
       "      <td>-0.06</td>\n",
       "      <td>0.02</td>\n",
       "      <td>0.04</td>\n",
       "      <td>-0.07</td>\n",
       "      <td>-0.04</td>\n",
       "      <td>0.50</td>\n",
       "      <td>1.00</td>\n",
       "    </tr>\n",
       "  </tbody>\n",
       "</table>\n",
       "</div>"
      ],
      "text/plain": [
       "            Unnamed: 0   age  balance   day  campaign  pdays  previous\n",
       "Unnamed: 0        1.00 -0.02    -0.06  0.03      0.09  -0.07     -0.06\n",
       "age              -0.02  1.00     0.10 -0.01     -0.01   0.00      0.02\n",
       "balance          -0.06  0.10     1.00  0.02     -0.03   0.02      0.04\n",
       "day               0.03 -0.01     0.02  1.00      0.13  -0.08     -0.07\n",
       "campaign          0.09 -0.01    -0.03  0.13      1.00  -0.09     -0.04\n",
       "pdays            -0.07  0.00     0.02 -0.08     -0.09   1.00      0.50\n",
       "previous         -0.06  0.02     0.04 -0.07     -0.04   0.50      1.00"
      ]
     },
     "execution_count": 84,
     "metadata": {},
     "output_type": "execute_result"
    }
   ],
   "source": [
    "# correlation btw independent variables\n",
    "data.corr(method='pearson').round(2)"
   ]
  },
  {
   "cell_type": "code",
   "execution_count": 85,
   "metadata": {},
   "outputs": [
    {
     "data": {
      "text/plain": [
       "<matplotlib.axes._subplots.AxesSubplot at 0x1d0df95c278>"
      ]
     },
     "execution_count": 85,
     "metadata": {},
     "output_type": "execute_result"
    },
    {
     "data": {
      "image/png": "[encoded data removed]",
      "text/plain": [
       "<Figure size 432x288 with 2 Axes>"
      ]
     },
     "metadata": {
      "needs_background": "light"
     },
     "output_type": "display_data"
    }
   ],
   "source": [
    "# correlation plot\n",
    "import seaborn as sns\n",
    "import matplotlib as plt\n",
    "corrs = data.corr(method='pearson').round(3)\n",
    "mask = np.zeros_like(corrs)\n",
    "mask[np.triu_indices_from(mask)] = True\n",
    "sns.heatmap(corrs, cmap='Spectral_r', mask=mask, square=True, vmin=-.4, vmax=.4)"
   ]
  },
  {
   "cell_type": "code",
   "execution_count": 3,
   "metadata": {},
   "outputs": [],
   "source": [
    "# Separating with continuous and categorical variables. \n",
    "cat = ['job', 'marital', 'education', 'default', 'housing', 'loan', 'contact', 'month','poutcome']\n",
    "cont = ['age','balance', 'day', 'campaign','pdays', 'previous']\n",
    "X_cont = data[cont]\n",
    "X_cat = data[cat]\n",
    "\n",
    "# Creating dummy variable dataframe from categorical variables.\n",
    "data_X = X_cont.join(pd.get_dummies(X_cat))"
   ]
  },
  {
   "cell_type": "code",
   "execution_count": 4,
   "metadata": {},
   "outputs": [],
   "source": [
    "data['deposit'] = data['deposit'].apply(lambda deposit:0 if deposit == \"no\" else 1)"
   ]
  },
  {
   "cell_type": "code",
   "execution_count": 5,
   "metadata": {},
   "outputs": [],
   "source": [
    "from sklearn.model_selection import train_test_split\n",
    "X = data_X\n",
    "y = data['deposit']\n",
    "X_train, X_test, y_train, y_test = train_test_split(X, y, test_size=.4, random_state = 0)"
   ]
  },
  {
   "cell_type": "code",
   "execution_count": 70,
   "metadata": {
    "scrolled": true
   },
   "outputs": [],
   "source": [
    "# feature scaling\n",
    "from sklearn.preprocessing import MinMaxScaler\n",
    "scaler = MinMaxScaler()\n",
    "X_train_scale = scaler.fit_transform(X_train[['age','balance', 'day', 'campaign','pdays', 'previous']])\n",
    "X_test_scale = scaler.transform(X_test[['age','balance', 'day', 'campaign','pdays', 'previous']])"
   ]
  },
  {
   "cell_type": "code",
   "execution_count": null,
   "metadata": {},
   "outputs": [],
   "source": [
    "# feature scaling\n",
    "X_train[['age','balance', 'day', 'campaign','pdays', 'previous']]= X_train_scale\n",
    "X_test[['age','balance', 'day', 'campaign','pdays', 'previous']] = X_test_scale"
   ]
  },
  {
   "cell_type": "markdown",
   "metadata": {},
   "source": [
    "# LOGISTIC REGRESSION"
   ]
  },
  {
   "cell_type": "code",
   "execution_count": 57,
   "metadata": {
    "scrolled": true
   },
   "outputs": [
    {
     "name": "stdout",
     "output_type": "stream",
     "text": [
      "Optimization terminated successfully.\n",
      "         Current function value: 0.565882\n",
      "         Iterations 23\n",
      "                           Logit Regression Results                           \n",
      "==============================================================================\n",
      "Dep. Variable:                deposit   No. Observations:                 4687\n",
      "Model:                          Logit   Df Residuals:                     4645\n",
      "Method:                           MLE   Df Model:                           41\n",
      "Date:                Tue, 08 Oct 2019   Pseudo R-squ.:                  0.1825\n",
      "Time:                        20:08:21   Log-Likelihood:                -2652.3\n",
      "converged:                       True   LL-Null:                       -3244.6\n",
      "                                        LLR p-value:                1.342e-221\n",
      "=======================================================================================\n",
      "                          coef    std err          z      P>|z|      [0.025      0.975]\n",
      "---------------------------------------------------------------------------------------\n",
      "age                    -0.0057      0.004     -1.383      0.167      -0.014       0.002\n",
      "balance              6.682e-05   1.35e-05      4.953      0.000    4.04e-05    9.33e-05\n",
      "day                    -0.0015      0.005     -0.336      0.737      -0.010       0.007\n",
      "campaign               -0.0789      0.016     -4.895      0.000      -0.110      -0.047\n",
      "pdays                   0.0003      0.001      0.504      0.614      -0.001       0.001\n",
      "previous                0.0047      0.016      0.286      0.775      -0.027       0.037\n",
      "job_admin.             -0.0017        nan        nan        nan         nan         nan\n",
      "job_blue-collar        -0.0547        nan        nan        nan         nan         nan\n",
      "job_entrepreneur       -0.1497        nan        nan        nan         nan         nan\n",
      "job_housemaid          -0.0200        nan        nan        nan         nan         nan\n",
      "job_management         -0.2280        nan        nan        nan         nan         nan\n",
      "job_retired             0.8135        nan        nan        nan         nan         nan\n",
      "job_self-employed      -0.2019        nan        nan        nan         nan         nan\n",
      "job_services           -0.0017        nan        nan        nan         nan         nan\n",
      "job_student             0.4689        nan        nan        nan         nan         nan\n",
      "job_technician          0.0877        nan        nan        nan         nan         nan\n",
      "job_unemployed          0.1186        nan        nan        nan         nan         nan\n",
      "job_unknown            -0.6261        nan        nan        nan         nan         nan\n",
      "marital_divorced        0.1218   7.74e+06   1.57e-08      1.000   -1.52e+07    1.52e+07\n",
      "marital_married        -0.0373   7.76e+06  -4.81e-09      1.000   -1.52e+07    1.52e+07\n",
      "marital_single          0.1203   8.26e+06   1.46e-08      1.000   -1.62e+07    1.62e+07\n",
      "education_primary      -0.1496        nan        nan        nan         nan         nan\n",
      "education_secondary     0.0338        nan        nan        nan         nan         nan\n",
      "education_tertiary      0.2613        nan        nan        nan         nan         nan\n",
      "education_unknown       0.0593        nan        nan        nan         nan         nan\n",
      "default_no              0.0821   2.36e+06   3.48e-08      1.000   -4.63e+06    4.63e+06\n",
      "default_yes             0.1227    2.3e+06   5.34e-08      1.000    -4.5e+06     4.5e+06\n",
      "housing_no              0.3012   1.07e+07   2.82e-08      1.000    -2.1e+07     2.1e+07\n",
      "housing_yes            -0.0963   1.01e+07  -9.53e-09      1.000   -1.98e+07    1.98e+07\n",
      "loan_no                 0.3360   3.15e+06   1.07e-07      1.000   -6.18e+06    6.18e+06\n",
      "loan_yes               -0.1312   3.15e+06  -4.16e-08      1.000   -6.18e+06    6.18e+06\n",
      "contact_cellular        0.5493   8.38e+06   6.56e-08      1.000   -1.64e+07    1.64e+07\n",
      "contact_telephone       0.3543   8.33e+06   4.25e-08      1.000   -1.63e+07    1.63e+07\n",
      "contact_unknown        -0.6987   8.41e+06  -8.31e-08      1.000   -1.65e+07    1.65e+07\n",
      "month_apr               0.0920    1.9e+06   4.85e-08      1.000   -3.72e+06    3.72e+06\n",
      "month_aug              -0.6401    1.9e+06  -3.38e-07      1.000   -3.72e+06    3.72e+06\n",
      "month_dec               1.2466    1.9e+06   6.56e-07      1.000   -3.72e+06    3.72e+06\n",
      "month_feb              -0.4470    1.9e+06  -2.35e-07      1.000   -3.72e+06    3.72e+06\n",
      "month_jan              -1.1981    1.9e+06  -6.32e-07      1.000   -3.72e+06    3.72e+06\n",
      "month_jul              -0.5916    1.9e+06  -3.11e-07      1.000   -3.72e+06    3.72e+06\n",
      "month_jun               0.2240    1.9e+06   1.18e-07      1.000   -3.72e+06    3.72e+06\n",
      "month_mar               1.4322    1.9e+06   7.55e-07      1.000   -3.72e+06    3.72e+06\n",
      "month_may              -0.4533    1.9e+06  -2.39e-07      1.000   -3.72e+06    3.72e+06\n",
      "month_nov              -0.8246    1.9e+06  -4.34e-07      1.000   -3.72e+06    3.72e+06\n",
      "month_oct               0.6117    1.9e+06   3.22e-07      1.000   -3.72e+06    3.72e+06\n",
      "month_sep               0.7531    1.9e+06   3.96e-07      1.000   -3.72e+06    3.72e+06\n",
      "poutcome_failure       -0.5950        nan        nan        nan         nan         nan\n",
      "poutcome_other         -0.3384        nan        nan        nan         nan         nan\n",
      "poutcome_success        1.6069        nan        nan        nan         nan         nan\n",
      "poutcome_unknown       -0.4687        nan        nan        nan         nan         nan\n",
      "=======================================================================================\n"
     ]
    },
    {
     "name": "stderr",
     "output_type": "stream",
     "text": [
      "C:\\Users\\hahas\\Anaconda3\\lib\\site-packages\\statsmodels\\base\\model.py:1092: RuntimeWarning: invalid value encountered in sqrt\n",
      "  bse_ = np.sqrt(np.diag(self.cov_params()))\n",
      "C:\\Users\\hahas\\Anaconda3\\lib\\site-packages\\scipy\\stats\\_distn_infrastructure.py:877: RuntimeWarning: invalid value encountered in greater\n",
      "  return (self.a < x) & (x < self.b)\n",
      "C:\\Users\\hahas\\Anaconda3\\lib\\site-packages\\scipy\\stats\\_distn_infrastructure.py:877: RuntimeWarning: invalid value encountered in less\n",
      "  return (self.a < x) & (x < self.b)\n",
      "C:\\Users\\hahas\\Anaconda3\\lib\\site-packages\\scipy\\stats\\_distn_infrastructure.py:1831: RuntimeWarning: invalid value encountered in less_equal\n",
      "  cond2 = cond0 & (x <= self.a)\n"
     ]
    }
   ],
   "source": [
    "#import statsmodels.api as sm\n",
    "#logit_model=sm.Logit(y_train,X_train)\n",
    "#result=logit_model.fit()\n",
    "#print(result.summary())\n",
    "\n",
    "# Create, fit model\n",
    "mod = sm.Logit(y_train, X_train)\n",
    "res = mod.fit()\n",
    "\n",
    "# Output model summary\n",
    "#print train['city_name'].value_counts()\n",
    "#print train['signup_channel'].value_counts()\n",
    "print(res.summary())"
   ]
  },
  {
   "cell_type": "code",
   "execution_count": null,
   "metadata": {},
   "outputs": [],
   "source": [
    "predicted_bi= np.where(predicted >= 0.5, 1, 0)"
   ]
  },
  {
   "cell_type": "code",
   "execution_count": 55,
   "metadata": {
    "scrolled": true
   },
   "outputs": [
    {
     "name": "stdout",
     "output_type": "stream",
     "text": [
      "AUC: 0.7551711717046116\n",
      "0.7005758157389635\n",
      "              precision    recall  f1-score   support\n",
      "\n",
      "           0       0.69      0.80      0.74      1668\n",
      "           1       0.72      0.58      0.65      1458\n",
      "\n",
      "    accuracy                           0.70      3126\n",
      "   macro avg       0.70      0.69      0.69      3126\n",
      "weighted avg       0.70      0.70      0.70      3126\n",
      "\n"
     ]
    }
   ],
   "source": [
    "# Create, output AUC for statsmodel\n",
    "predicted = res.predict(X_test)\n",
    "auc = roc_auc_score(y_true=y_test, y_score=predicted)\n",
    "print('AUC: %s' %auc)\n",
    "print(accuracy_score(y_test,predicted_bi))\n",
    "print(classification_report(y_test,predicted_bi))"
   ]
  },
  {
   "cell_type": "code",
   "execution_count": null,
   "metadata": {},
   "outputs": [],
   "source": [
    "# SKlearn Logistic Regression model"
   ]
  },
  {
   "cell_type": "code",
   "execution_count": null,
   "metadata": {},
   "outputs": [],
   "source": [
    "# feature selection\n",
    "from sklearn.feature_selection import RFE\n",
    "from sklearn.linear_model import LogisticRegression\n",
    "# Feature extraction\n",
    "model = LogisticRegression()\n",
    "rfe = RFE(model, 15)\n",
    "fit = rfe.fit(X_train, y_train)\n",
    "print(\"Num Features: %s\" % (fit.n_features_))\n",
    "print(\"Selected Features: %s\" % (fit.support_))\n",
    "print(\"Feature Ranking: %s\" % (fit.ranking_))"
   ]
  },
  {
   "cell_type": "code",
   "execution_count": 118,
   "metadata": {
    "scrolled": false
   },
   "outputs": [
    {
     "name": "stderr",
     "output_type": "stream",
     "text": [
      "C:\\Users\\hahas\\Anaconda3\\lib\\site-packages\\sklearn\\linear_model\\logistic.py:432: FutureWarning: Default solver will be changed to 'lbfgs' in 0.22. Specify a solver to silence this warning.\n",
      "  FutureWarning)\n"
     ]
    },
    {
     "name": "stdout",
     "output_type": "stream",
     "text": [
      "[[1338  330]\n",
      " [ 595  863]]\n",
      "              precision    recall  f1-score   support\n",
      "\n",
      "           0       0.69      0.80      0.74      1668\n",
      "           1       0.72      0.59      0.65      1458\n",
      "\n",
      "    accuracy                           0.70      3126\n",
      "   macro avg       0.71      0.70      0.70      3126\n",
      "weighted avg       0.71      0.70      0.70      3126\n",
      "\n",
      "Test accuracy:0.70\n",
      "Training accuracy: 0.7091956475357372\n",
      "Coefficient of each feature: [[-5.45206553e-03  6.67136554e-05 -1.98400375e-03 -7.98052094e-02\n",
      "   3.78518439e-04  5.96855183e-03  0.00000000e+00 -3.69107512e-02\n",
      "  -5.87504612e-02  0.00000000e+00 -1.74207047e-01  7.87747896e-01\n",
      "  -1.09572999e-01  0.00000000e+00  4.26513700e-01  9.04837039e-02\n",
      "   5.45647747e-02 -2.37899566e-01  0.00000000e+00 -1.57987428e-01\n",
      "   3.30850246e-03 -1.67040011e-01  0.00000000e+00  1.93264647e-01\n",
      "   0.00000000e+00  0.00000000e+00  0.00000000e+00  4.01333897e-01\n",
      "   0.00000000e+00  1.18777714e-02 -4.42220059e-01  1.90112425e-01\n",
      "   0.00000000e+00 -1.02251717e+00  4.85705909e-01 -2.03815561e-01\n",
      "   1.25979170e+00  0.00000000e+00 -6.97070236e-01 -1.60949847e-01\n",
      "   5.90993485e-01  1.68001150e+00 -3.75816747e-02 -3.85242005e-01\n",
      "   9.35596142e-01  1.04217946e+00 -2.06218592e-01  0.00000000e+00\n",
      "   1.92547186e+00 -7.69809542e-02]]\n"
     ]
    },
    {
     "data": {
      "image/png": "[encoded data removed]",
      "text/plain": [
       "<Figure size 576x396 with 1 Axes>"
      ]
     },
     "metadata": {},
     "output_type": "display_data"
    }
   ],
   "source": [
    "from sklearn.linear_model import LogisticRegression\n",
    "from sklearn.metrics import roc_auc_score,roc_curve, confusion_matrix, classification_report\n",
    "import matplotlib.pyplot as plt\n",
    "\n",
    "logmodel = LogisticRegression(C=0.5, max_iter=120, penalty='l1')\n",
    "logmodel.fit(X_train,y_train)\n",
    "pred_log = logmodel.predict(X_test)\n",
    "prob_log = logmodel.predict_proba(X_test)[:,1]\n",
    "\n",
    "print(confusion_matrix(y_test,pred_log))\n",
    "print(classification_report(y_test,pred_log))\n",
    "print('Test accuracy:{:.2f}'.format(logmodel.score(X_test, y_test)))\n",
    "print('Training accuracy:', logmodel.score(X_train, y_train))\n",
    "print('Coefficient of each feature:', logmodel.coef_)\n",
    "\n",
    "roc_value = roc_auc_score(y_test, prob_log)\n",
    "fpr, tpr, thresholds = roc_curve(y_test,prob_log)\n",
    "plt.figure()\n",
    "plt.plot(fpr, tpr, label='Logistic Regression (area = %0.2f)' % roc_value)\n",
    "plt.plot([0, 1], [0, 1],'r--')\n",
    "plt.xlim([0.0, 1.0])\n",
    "plt.ylim([0.0, 1.0])\n",
    "plt.xlabel('False Positive Rate')\n",
    "plt.ylabel('True Positive Rate')\n",
    "plt.title('Receiver operating characteristic (ROC) Curve')\n",
    "plt.legend(loc=\"lower right\")\n",
    "plt.show()"
   ]
  },
  {
   "cell_type": "markdown",
   "metadata": {},
   "source": [
    "# Validation Curve with C (Accuracy score)"
   ]
  },
  {
   "cell_type": "code",
   "execution_count": null,
   "metadata": {},
   "outputs": [],
   "source": [
    "from sklearn.model_selection import validation_curve\n",
    "\n",
    "param_range = np.logspace(-3, 3, 4)\n",
    "train_scores, test_scores = validation_curve(LogisticRegression(), X_train, y_train,\n",
    "                                            param_name='C',\n",
    "                                            param_range=param_range, cv=5, scoring=\"accuracy\")"
   ]
  },
  {
   "cell_type": "code",
   "execution_count": 120,
   "metadata": {
    "scrolled": true
   },
   "outputs": [
    {
     "data": {
      "text/plain": [
       "array([[0.68443497, 0.65138593, 0.64605544, 0.65955176, 0.65705128],\n",
       "       [0.70682303, 0.69509595, 0.68656716, 0.70437567, 0.72115385],\n",
       "       [0.70469083, 0.69189765, 0.68656716, 0.70330843, 0.72008547],\n",
       "       [0.69936034, 0.69402985, 0.68656716, 0.70330843, 0.72435897]])"
      ]
     },
     "execution_count": 120,
     "metadata": {},
     "output_type": "execute_result"
    }
   ],
   "source": [
    "test_scores"
   ]
  },
  {
   "cell_type": "code",
   "execution_count": null,
   "metadata": {},
   "outputs": [],
   "source": [
    "# Plotting\n",
    "#!pip install yellowbrick\n",
    "from yellowbrick.model_selection import ValidationCurve\n",
    "param_range = np.arange(0.001,10) \n",
    "\n",
    "viz =ValidationCurve(\n",
    "    logmodel, param_name= 'C', param_range=param_range, cv=5, scoring=\"accuracy\")\n",
    "\n",
    "viz.fit(X_train, y_train)\n",
    "viz.show()"
   ]
  },
  {
   "cell_type": "code",
   "execution_count": null,
   "metadata": {},
   "outputs": [],
   "source": [
    "# Validation Curve with C (AUC score)"
   ]
  },
  {
   "cell_type": "code",
   "execution_count": null,
   "metadata": {},
   "outputs": [],
   "source": [
    "from sklearn.metrics import roc_auc_score, roc_curve, confusion_matrix, classification_report, auc\n",
    "\n",
    "C = [0.05, 0.1, 0.25, 0.5, 0.75, 1]\n",
    "train_results = []\n",
    "test_results = []\n",
    "for c in C:\n",
    "   model = LogisticRegression(C=c, max_iter=100, penalty='l1',random_state = 0)\n",
    "   model.fit(X_train, y_train)\n",
    "   train_pred = model.predict_proba(X_train)[:,1]\n",
    "   false_positive_rate, true_positive_rate, thresholds = roc_curve(y_train, train_pred)\n",
    "   roc_auc = auc(false_positive_rate, true_positive_rate)\n",
    "   train_results.append(roc_auc)\n",
    "   y_pred = model.predict_proba(X_test)[:,1]\n",
    "   false_positive_rate, true_positive_rate, thresholds = roc_curve(y_test, y_pred)\n",
    "   roc_auc = auc(false_positive_rate, true_positive_rate)\n",
    "   test_results.append(roc_auc)\n",
    "    \n",
    "from matplotlib.legend_handler import HandlerLine2D\n",
    "line1, = plt.plot(C, train_results, \"b\", label=\"Train AUC\")\n",
    "line2, = plt.plot(C, test_results, \"r\", label=\"Test AUC\")\n",
    "plt.legend(handler_map={line1: HandlerLine2D(numpoints=2)})\n",
    "plt.ylabel(\"AUC score\")\n",
    "plt.xlabel(\"C\")\n",
    "plt.show()"
   ]
  },
  {
   "cell_type": "markdown",
   "metadata": {},
   "source": [
    "## 1) Grid Search"
   ]
  },
  {
   "cell_type": "code",
   "execution_count": null,
   "metadata": {},
   "outputs": [],
   "source": [
    "# Grid Search\n",
    "from sklearn.model_selection import GridSearchCV\n",
    "import time\n",
    "\n",
    "C=np.logspace(-1,1,4)\n",
    "penalty = ['l1','l2']\n",
    "max_iter = np.arange(100,200,5)\n",
    "param_grid = dict(penalty = penalty, max_iter = max_iter, C=C)\n",
    "\n",
    "grid = GridSearchCV(estimator = logmodel, param_grid = param_grid, cv = 5, n_jobs=-1)\n",
    "grid_result = grid.fit(X,y)\n",
    "start_time = time.time()\n",
    "\n",
    "# Summarize results\n",
    "print(\"Best: %f using %s\" % (grid_result.best_score_, grid_result.best_params_))\n",
    "print(\"Execution time: \" + str((time.time() - start_time)) + ' ms')"
   ]
  },
  {
   "cell_type": "code",
   "execution_count": null,
   "metadata": {},
   "outputs": [],
   "source": [
    "# Cross-Validation\n",
    "from sklearn.model_selection import KFold, cross_val_score, StratifiedKFold\n",
    "\n",
    "#cv = KFold(n_splits=5, random_state=0)\n",
    "cv = StratifiedKFold(5)\n",
    "result = cross_val_score(logmodel, X, y, cv=cv, scoring = 'accuracy')\n",
    "print(result)\n",
    "result.mean()"
   ]
  },
  {
   "cell_type": "markdown",
   "metadata": {},
   "source": [
    "# 2)Random Search"
   ]
  },
  {
   "cell_type": "code",
   "execution_count": null,
   "metadata": {},
   "outputs": [],
   "source": [
    "from sklearn.model_selection import RandomizedSearchCV\n",
    "\n",
    "random = RandomizedSearchCV(logmodel, param_grid, random_state=0, cv=5)\n",
    "random_result = random.fit(X, y)\n",
    "# Summarize results\n",
    "print(\"Best: %f using %s\" % (random_result.best_score_, random_result.best_params_))"
   ]
  },
  {
   "cell_type": "markdown",
   "metadata": {},
   "source": [
    "# Random Forest"
   ]
  },
  {
   "cell_type": "code",
   "execution_count": 6,
   "metadata": {},
   "outputs": [],
   "source": [
    "# Build the model\n",
    "import numpy as np \n",
    "import pandas as pd \n",
    "from sklearn import metrics\n",
    "from sklearn.metrics import confusion_matrix, classification_report, roc_auc_score, roc_curve, accuracy_score \n",
    "from sklearn.ensemble import RandomForestClassifier\n",
    "\n",
    "RF = RandomForestClassifier(bootstrap= True, class_weight=None, n_estimators= 1800, random_state=0)\n",
    "\n",
    "RF.fit(X_train, y_train)\n",
    "pred_RF = RF.predict(X_test)\n",
    "prob_RF = RF.predict_proba(X_test)[:, 1]"
   ]
  },
  {
   "cell_type": "code",
   "execution_count": 7,
   "metadata": {
    "scrolled": false
   },
   "outputs": [
    {
     "name": "stdout",
     "output_type": "stream",
     "text": [
      "[[1321  347]\n",
      " [ 517  941]]\n",
      "              precision    recall  f1-score   support\n",
      "\n",
      "           0       0.72      0.79      0.75      1668\n",
      "           1       0.73      0.65      0.69      1458\n",
      "\n",
      "    accuracy                           0.72      3126\n",
      "   macro avg       0.72      0.72      0.72      3126\n",
      "weighted avg       0.72      0.72      0.72      3126\n",
      "\n",
      "0.7236084452975048\n"
     ]
    }
   ],
   "source": [
    "print(confusion_matrix(y_test,pred_RF))\n",
    "print(classification_report(y_test,pred_RF))\n",
    "print(accuracy_score(y_test, pred_RF))"
   ]
  },
  {
   "cell_type": "code",
   "execution_count": 130,
   "metadata": {},
   "outputs": [],
   "source": [
    "feature_list=list(data_X.columns)"
   ]
  },
  {
   "cell_type": "markdown",
   "metadata": {},
   "source": [
    "# visualization"
   ]
  },
  {
   "cell_type": "code",
   "execution_count": null,
   "metadata": {},
   "outputs": [],
   "source": [
    "# Visualizaton\n",
    "from sklearn.tree import export_graphviz\n",
    "from sklearn.externals.six import StringIO  \n",
    "from IPython.display import Image  \n",
    "from sklearn import tree\n",
    "import pydotplus\n",
    "import pydot"
   ]
  },
  {
   "cell_type": "code",
   "execution_count": null,
   "metadata": {
    "scrolled": true
   },
   "outputs": [],
   "source": [
    "# Extract the small tree\n",
    "tree_small = RF.estimators_[1]\n",
    "\n",
    "# Create DOT data\n",
    "dot_data = StringIO()\n",
    "export_graphviz(tree_small, out_file=dot_data, filled=True, rounded=True,\n",
    "                special_characters=True, feature_names = feature_list, class_names=['No','Yes'])\n",
    "\n",
    "# Draw graph\n",
    "graph = pydotplus.graph_from_dot_data(dot_data.getvalue())\n",
    "\n",
    "# Show graph\n",
    "graph.write_png('tree.png')\n",
    "Image(graph.create_png()) "
   ]
  },
  {
   "cell_type": "markdown",
   "metadata": {},
   "source": [
    "# variable Importances"
   ]
  },
  {
   "cell_type": "code",
   "execution_count": 139,
   "metadata": {},
   "outputs": [
    {
     "name": "stderr",
     "output_type": "stream",
     "text": [
      "C:\\Users\\hahas\\Anaconda3\\lib\\site-packages\\sklearn\\ensemble\\forest.py:245: FutureWarning: The default value of n_estimators will change from 10 in version 0.20 to 100 in 0.22.\n",
      "  \"10 in version 0.20 to 100 in 0.22.\", FutureWarning)\n"
     ]
    },
    {
     "name": "stdout",
     "output_type": "stream",
     "text": [
      "[0.1056327  0.11881588 0.11094973 0.0752676  0.02175952 0.01430582\n",
      " 0.01458347 0.0172352  0.00866417 0.00549024 0.0152562  0.01130604\n",
      " 0.00727266 0.01204205 0.00659713 0.0156677  0.00852459 0.00164664\n",
      " 0.01325157 0.01668532 0.01329912 0.01214173 0.01914801 0.01641835\n",
      " 0.0082348  0.00325864 0.00327323 0.01600566 0.01303604 0.00938298\n",
      " 0.01466037 0.01737737 0.00786252 0.03483688 0.01527709 0.01176479\n",
      " 0.00401307 0.00984183 0.00683552 0.01410264 0.01333904 0.01261964\n",
      " 0.0176314  0.01033704 0.00965507 0.00987338 0.01253082 0.00787947\n",
      " 0.02949773 0.02491153]\n"
     ]
    },
    {
     "data": {
      "image/png": "[encoded data removed]",
      "text/plain": [
       "<Figure size 576x396 with 1 Axes>"
      ]
     },
     "metadata": {},
     "output_type": "display_data"
    }
   ],
   "source": [
    "## Feature selection_importances  \n",
    "\n",
    "import pandas as pd\n",
    "import numpy as np\n",
    " \n",
    "from sklearn.ensemble import ExtraTreesClassifier\n",
    "import matplotlib.pyplot as plt\n",
    "model = ExtraTreesClassifier()\n",
    "model.fit(X_train,y_train)\n",
    "print(model.feature_importances_) \n",
    "#use inbuilt class feature_importances of tree based classifiers\n",
    "#plot graph of feature importances for better visualization\n",
    "feat_importances = pd.Series(model.feature_importances_, index=data_X.columns)\n",
    "feat_importances.nlargest(10).plot(kind='barh')\n",
    "plt.show()"
   ]
  },
  {
   "cell_type": "code",
   "execution_count": 140,
   "metadata": {},
   "outputs": [
    {
     "name": "stdout",
     "output_type": "stream",
     "text": [
      "[[1070  598]\n",
      " [ 645  813]]\n",
      "              precision    recall  f1-score   support\n",
      "\n",
      "           0       0.62      0.64      0.63      1668\n",
      "           1       0.58      0.56      0.57      1458\n",
      "\n",
      "    accuracy                           0.60      3126\n",
      "   macro avg       0.60      0.60      0.60      3126\n",
      "weighted avg       0.60      0.60      0.60      3126\n",
      "\n",
      "0.6023672424824056\n"
     ]
    }
   ],
   "source": [
    "# New random forest with only the four most important variables\n",
    "rf_most_important = RandomForestClassifier(n_estimators= 1000, random_state=0)\n",
    "# Extract the two most important features\n",
    "important_indices = ['balance','day','age','campaign']\n",
    "train_important = X_train[important_indices]\n",
    "test_important = X_test[important_indices]\n",
    "# Train the random forest\n",
    "rf_most_important.fit(train_important, y_train)\n",
    "# Make predictions and determine the error\n",
    "predictions = rf_most_important.predict(test_important)\n",
    "# Display the performance metrics\n",
    "print(confusion_matrix(y_test,predictions))\n",
    "print(classification_report(y_test,predictions))\n",
    "print(accuracy_score(y_test, predictions))"
   ]
  },
  {
   "cell_type": "markdown",
   "metadata": {},
   "source": [
    "# 1-1)Validation Curve (Accuracy)"
   ]
  },
  {
   "cell_type": "code",
   "execution_count": 151,
   "metadata": {
    "scrolled": true
   },
   "outputs": [
    {
     "data": {
      "image/png": "[encoded data removed]",
      "text/plain": [
       "<Figure size 576x396 with 1 Axes>"
      ]
     },
     "metadata": {},
     "output_type": "display_data"
    },
    {
     "data": {
      "text/plain": [
       "<matplotlib.axes._subplots.AxesSubplot at 0x1d0ed66a240>"
      ]
     },
     "execution_count": 151,
     "metadata": {},
     "output_type": "execute_result"
    }
   ],
   "source": [
    "# max_depth\n",
    "#!pip install yellowbrick\n",
    "from yellowbrick.model_selection import ValidationCurve\n",
    "param_range = np.arange(5,20,7) \n",
    "\n",
    "viz =ValidationCurve(\n",
    "    RandomForestClassifier(n_estimators=1000), param_name= 'max_depth',\n",
    "                                            param_range=param_range, cv=5, scoring=\"accuracy\")\n",
    "\n",
    "viz.fit(X_train, y_train)\n",
    "viz.show()"
   ]
  },
  {
   "cell_type": "code",
   "execution_count": 147,
   "metadata": {},
   "outputs": [],
   "source": [
    "from sklearn.model_selection import validation_curve\n",
    "\n",
    "param_range = list(range(5,50,10))\n",
    "train_scores, test_scores = validation_curve(RandomForestClassifier(n_estimators=1000),X_train, y_train,\n",
    "                                            param_name='max_depth',\n",
    "                                            param_range=param_range, cv=5,scoring=\"accuracy\")"
   ]
  },
  {
   "cell_type": "code",
   "execution_count": 150,
   "metadata": {},
   "outputs": [
    {
     "data": {
      "text/plain": [
       "array([[0.70682303, 0.71002132, 0.70788913, 0.69797225, 0.73183761],\n",
       "       [0.71855011, 0.73880597, 0.73134328, 0.72892209, 0.74038462],\n",
       "       [0.71641791, 0.73134328, 0.7228145 , 0.72892209, 0.72008547],\n",
       "       [0.71428571, 0.72814499, 0.72601279, 0.73105656, 0.72435897],\n",
       "       [0.71428571, 0.72707889, 0.72707889, 0.72785486, 0.7275641 ]])"
      ]
     },
     "execution_count": 150,
     "metadata": {},
     "output_type": "execute_result"
    }
   ],
   "source": [
    "test_scores"
   ]
  },
  {
   "cell_type": "markdown",
   "metadata": {},
   "source": [
    "# 1-2)Validation CURVE (AUC)"
   ]
  },
  {
   "cell_type": "code",
   "execution_count": 10,
   "metadata": {},
   "outputs": [
    {
     "data": {
      "image/png": "[encoded data removed]",
      "text/plain": [
       "<Figure size 432x288 with 1 Axes>"
      ]
     },
     "metadata": {
      "needs_background": "light"
     },
     "output_type": "display_data"
    }
   ],
   "source": [
    "# number of trees\n",
    "from sklearn.metrics import roc_curve, auc\n",
    "from sklearn.ensemble import RandomForestClassifier\n",
    "import matplotlib.pyplot as plt\n",
    "\n",
    "n_estimators = [10,30,50,70,100,200]\n",
    "train_results = []\n",
    "test_results = []\n",
    "for i in range(len(n_estimators)):\n",
    "   model = RandomForestClassifier(bootstrap=True, class_weight=None, criterion='entropy',\n",
    "                                  n_estimators=n_estimators[i], random_state=0)\n",
    "   model.fit(X_train, y_train)\n",
    "   train_pred = model.predict_proba(X_train)[:,1]\n",
    "   false_positive_rate, true_positive_rate, thresholds = roc_curve(y_train, train_pred)\n",
    "   roc_auc = auc(false_positive_rate, true_positive_rate)\n",
    "   train_results.append(roc_auc)\n",
    "   y_pred = model.predict_proba(X_test)[:,1]\n",
    "   false_positive_rate, true_positive_rate, thresholds = roc_curve(y_test, y_pred)\n",
    "   roc_auc = auc(false_positive_rate, true_positive_rate)\n",
    "   test_results.append(roc_auc)\n",
    "    \n",
    "from matplotlib.legend_handler import HandlerLine2D\n",
    "line1, = plt.plot(n_estimators, train_results, \"b\", label=\"Train AUC\")\n",
    "line2, = plt.plot(n_estimators, test_results, \"r\", label=\"Test AUC\")\n",
    "plt.legend(handler_map={line1: HandlerLine2D(numpoints=2)})\n",
    "plt.ylabel(\"AUC score\")\n",
    "plt.xlabel(\"n_estimators\")\n",
    "plt.show()"
   ]
  },
  {
   "cell_type": "code",
   "execution_count": 97,
   "metadata": {
    "scrolled": true
   },
   "outputs": [
    {
     "data": {
      "image/png": "[encoded data removed]",
      "text/plain": [
       "<Figure size 432x288 with 1 Axes>"
      ]
     },
     "metadata": {},
     "output_type": "display_data"
    }
   ],
   "source": [
    "# number of trees\n",
    "from sklearn.metrics import roc_curve, auc\n",
    "from sklearn.ensemble import RandomForestClassifier\n",
    "\n",
    "n_estimators = [10,30,50,70,100,200]\n",
    "train_results = []\n",
    "test_results = []\n",
    "for n_estimator in n_estimators:\n",
    "   model = RandomForestClassifier(bootstrap=True, class_weight=None, criterion='entropy',\n",
    "                                  n_estimators=n_estimator, random_state=0)\n",
    "   model.fit(X_train, y_train)\n",
    "   train_pred = model.predict_proba(X_train)[:,1]\n",
    "   false_positive_rate, true_positive_rate, thresholds = roc_curve(y_train, train_pred)\n",
    "   roc_auc = auc(false_positive_rate, true_positive_rate)\n",
    "   train_results.append(roc_auc)\n",
    "   y_pred = model.predict_proba(X_test)[:,1]\n",
    "   false_positive_rate, true_positive_rate, thresholds = roc_curve(y_test, y_pred)\n",
    "   roc_auc = auc(false_positive_rate, true_positive_rate)\n",
    "   test_results.append(roc_auc)\n",
    "    \n",
    "from matplotlib.legend_handler import HandlerLine2D\n",
    "line1, = plt.plot(n_estimators, train_results, \"b\", label=\"Train AUC\")\n",
    "line2, = plt.plot(n_estimators, test_results, \"r\", label=\"Test AUC\")\n",
    "plt.legend(handler_map={line1: HandlerLine2D(numpoints=2)})\n",
    "plt.ylabel(\"AUC score\")\n",
    "plt.xlabel(\"n_estimators\")\n",
    "plt.show()"
   ]
  },
  {
   "cell_type": "code",
   "execution_count": null,
   "metadata": {},
   "outputs": [],
   "source": [
    "# max_depth\n",
    "from sklearn.metrics import roc_curve, auc\n",
    "from sklearn.ensemble import RandomForestClassifier\n",
    "\n",
    "max_depth = [5,10,30,50,70]\n",
    "train_results = []\n",
    "test_results = []\n",
    "for max_d in max_depth:\n",
    "   model = RandomForestClassifier(bootstrap=True,max_depth=max_d, random_state=0)\n",
    "   model.fit(X_train, y_train)\n",
    "   train_pred = model.predict_proba(X_train)[:,1]\n",
    "   false_positive_rate, true_positive_rate, thresholds = roc_curve(y_train, train_pred)\n",
    "   roc_auc = auc(false_positive_rate, true_positive_rate)\n",
    "   train_results.append(roc_auc)\n",
    "   y_pred = model.predict_proba(X_test)[:,1]\n",
    "   false_positive_rate, true_positive_rate, thresholds = roc_curve(y_test, y_pred)\n",
    "   roc_auc = auc(false_positive_rate, true_positive_rate)\n",
    "   test_results.append(roc_auc)\n",
    "    \n",
    "from matplotlib.legend_handler import HandlerLine2D\n",
    "line1, = plt.plot(max_depth, train_results, \"b\", label=\"Train AUC\")\n",
    "line2, = plt.plot(max_depth, test_results, \"r\", label=\"Test AUC\")\n",
    "plt.legend(handler_map={line1: HandlerLine2D(numpoints=2)})\n",
    "plt.ylabel(\"AUC score\")\n",
    "plt.xlabel(\"max_depth\")\n",
    "plt.show()"
   ]
  },
  {
   "cell_type": "markdown",
   "metadata": {},
   "source": [
    "# 2) hyper parameter - grid search"
   ]
  },
  {
   "cell_type": "code",
   "execution_count": 8,
   "metadata": {},
   "outputs": [],
   "source": [
    "from sklearn.model_selection import GridSearchCV\n",
    "\n",
    "param_grid = {\n",
    "    'max_depth' : list(range(5,30,10)), #10\n",
    "    'max_features' : list(range(5,30,10)), #10\n",
    "}\n",
    "\n",
    "grid = GridSearchCV(RandomForestClassifier(bootstrap = True, n_estimators = 1800), param_grid, cv=5)"
   ]
  },
  {
   "cell_type": "code",
   "execution_count": 9,
   "metadata": {
    "scrolled": true
   },
   "outputs": [],
   "source": [
    "best_clf = grid.fit(X_train, y_train)"
   ]
  },
  {
   "cell_type": "code",
   "execution_count": 10,
   "metadata": {},
   "outputs": [
    {
     "data": {
      "text/plain": [
       "RandomForestClassifier(bootstrap=True, class_weight=None, criterion='gini',\n",
       "                       max_depth=15, max_features=5, max_leaf_nodes=None,\n",
       "                       min_impurity_decrease=0.0, min_impurity_split=None,\n",
       "                       min_samples_leaf=1, min_samples_split=2,\n",
       "                       min_weight_fraction_leaf=0.0, n_estimators=1800,\n",
       "                       n_jobs=None, oob_score=False, random_state=None,\n",
       "                       verbose=0, warm_start=False)"
      ]
     },
     "execution_count": 10,
     "metadata": {},
     "output_type": "execute_result"
    }
   ],
   "source": [
    "best_clf.best_params_\n",
    "best_clf.best_estimator_"
   ]
  },
  {
   "cell_type": "code",
   "execution_count": 12,
   "metadata": {
    "scrolled": true
   },
   "outputs": [
    {
     "name": "stdout",
     "output_type": "stream",
     "text": [
      "[[1356  312]\n",
      " [ 541  917]]\n",
      "              precision    recall  f1-score   support\n",
      "\n",
      "           0       0.71      0.81      0.76      1668\n",
      "           1       0.75      0.63      0.68      1458\n",
      "\n",
      "    accuracy                           0.73      3126\n",
      "   macro avg       0.73      0.72      0.72      3126\n",
      "weighted avg       0.73      0.73      0.72      3126\n",
      "\n",
      "0.7271273192578375\n"
     ]
    },
    {
     "data": {
      "image/png": "[encoded data removed]",
      "text/plain": [
       "<Figure size 432x288 with 1 Axes>"
      ]
     },
     "metadata": {
      "needs_background": "light"
     },
     "output_type": "display_data"
    }
   ],
   "source": [
    "from sklearn.metrics import roc_auc_score, roc_curve\n",
    "import matplotlib.pyplot as plt\n",
    "# Build the model\n",
    "y_pred_RF = best_clf.predict(X_test)\n",
    "y_prob_RF = best_clf.predict_proba(X_test)[:, 1]\n",
    "print(confusion_matrix(y_test,y_pred_RF))\n",
    "print(classification_report(y_test,y_pred_RF))\n",
    "print(accuracy_score(y_test, y_pred_RF))\n",
    "\n",
    "roc_value = roc_auc_score(y_test,y_prob_RF)\n",
    "fpr, tpr, threshold = roc_curve(y_test,y_prob_RF)\n",
    "plt.figure()\n",
    "plt.plot(fpr, tpr, label='Random Forest (area = %0.2f)' % roc_value)\n",
    "plt.plot([0, 1], [0, 1],'r--')\n",
    "plt.xlim([0.0, 1.0])\n",
    "plt.ylim([0.0, 1.0])\n",
    "plt.xlabel('False Positive Rate')\n",
    "plt.ylabel('True Positive Rate')\n",
    "plt.title('Receiver operating characteristic (ROC) Curve')\n",
    "plt.legend(loc=\"lower right\")\n",
    "plt.show()"
   ]
  },
  {
   "cell_type": "markdown",
   "metadata": {},
   "source": [
    "# 3) hyper parameter - random"
   ]
  },
  {
   "cell_type": "code",
   "execution_count": null,
   "metadata": {},
   "outputs": [],
   "source": [
    "from sklearn.model_selection import RandomizedSearchCV\n",
    "ramdom = RandomizedSearchCV(RF, param_grid, random_state=0, cv=5)\n",
    "random_result = random.fit(X,y)\n",
    "print(\"Best: %f using %s\" % (random_result.best_score_, random_result.best_params_))"
   ]
  },
  {
   "cell_type": "code",
   "execution_count": null,
   "metadata": {},
   "outputs": [],
   "source": [
    "\"\"\"\n",
    "1. Class Imbalance / Correlation btw variables\n",
    "2. Feature selection (chi2, recursive feature elimination, LDA, PCA etc)\n",
    "3. Feature scaling\n",
    "4. Hyperparameter Tuning (validation curve, grid search, etc)\n",
    "5. More Features\n",
    "6. Error Analysis\n",
    "\"\"\""
   ]
  }
 ],
 "metadata": {
  "kernelspec": {
   "display_name": "Python 3",
   "language": "python",
   "name": "python3"
  },
  "language_info": {
   "codemirror_mode": {
    "name": "ipython",
    "version": 3
   },
   "file_extension": ".py",
   "mimetype": "text/x-python",
   "name": "python",
   "nbconvert_exporter": "python",
   "pygments_lexer": "ipython3",
   "version": "3.7.3"
  }
 },
 "nbformat": 4,
 "nbformat_minor": 2
}
